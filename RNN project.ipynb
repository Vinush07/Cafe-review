{
 "cells": [
  {
   "cell_type": "code",
   "execution_count": 59,
   "id": "31efaf13",
   "metadata": {},
   "outputs": [],
   "source": [
    "import pandas as pd\n",
    "import numpy as np\n",
    "from sklearn.model_selection import train_test_split\n",
    "from sklearn.preprocessing import MinMaxScaler\n",
    "from tensorflow.keras.models import Sequential\n",
    "from tensorflow.keras.layers import SimpleRNN, Dense"
   ]
  },
  {
   "cell_type": "code",
   "execution_count": 60,
   "id": "491924b6",
   "metadata": {
    "scrolled": true
   },
   "outputs": [],
   "source": [
    "df = pd.read_csv(\"C:\\\\Users\\\\shreenithi\\\\Downloads\\\\archive (20)\\\\Coffee_shops_ratings.csv\", encoding='latin-1')"
   ]
  },
  {
   "cell_type": "code",
   "execution_count": 61,
   "id": "8e675d1e",
   "metadata": {},
   "outputs": [
    {
     "data": {
      "text/html": [
       "<div>\n",
       "<style scoped>\n",
       "    .dataframe tbody tr th:only-of-type {\n",
       "        vertical-align: middle;\n",
       "    }\n",
       "\n",
       "    .dataframe tbody tr th {\n",
       "        vertical-align: top;\n",
       "    }\n",
       "\n",
       "    .dataframe thead th {\n",
       "        text-align: right;\n",
       "    }\n",
       "</style>\n",
       "<table border=\"1\" class=\"dataframe\">\n",
       "  <thead>\n",
       "    <tr style=\"text-align: right;\">\n",
       "      <th></th>\n",
       "      <th>shop_name</th>\n",
       "      <th>rating</th>\n",
       "      <th>numbers_of_rating</th>\n",
       "      <th>key_words</th>\n",
       "      <th>address</th>\n",
       "      <th>reviews</th>\n",
       "    </tr>\n",
       "  </thead>\n",
       "  <tbody>\n",
       "    <tr>\n",
       "      <th>0</th>\n",
       "      <td>Elixir Bunn Coffee</td>\n",
       "      <td>4.3</td>\n",
       "      <td>218</td>\n",
       "      <td>none</td>\n",
       "      <td>King Abdullah Rd,Riyadh 13215</td>\n",
       "      <td>['Amazing new branch for my favorite coffee ho...</td>\n",
       "    </tr>\n",
       "    <tr>\n",
       "      <th>1</th>\n",
       "      <td>Chamonix Cafe</td>\n",
       "      <td>4.0</td>\n",
       "      <td>563</td>\n",
       "      <td>Late-night food, Breakfast, Outdoor seating</td>\n",
       "      <td>9259 Wadi Al Awsat, Al nbsp;2430, Riyadh</td>\n",
       "      <td>['Its really romantic and lovely place with go...</td>\n",
       "    </tr>\n",
       "    <tr>\n",
       "      <th>2</th>\n",
       "      <td>dr.CAFE COFFEE</td>\n",
       "      <td>4.1</td>\n",
       "      <td>1571</td>\n",
       "      <td>Cosy, Casual, Vegetarian options</td>\n",
       "      <td>As Sulimaniyah, Khurais Road Abi Al Arab Stree...</td>\n",
       "      <td>[\"Sandwich wasn't tasty and it was expensive. ...</td>\n",
       "    </tr>\n",
       "    <tr>\n",
       "      <th>3</th>\n",
       "      <td>The Shaky</td>\n",
       "      <td>3.9</td>\n",
       "      <td>52</td>\n",
       "      <td>Cosy, Casual, Groups</td>\n",
       "      <td>Localizer Mall gate ,Prince MUhammad Ibn Abdul...</td>\n",
       "      <td>['Nice place', \"It's delicious you can build y...</td>\n",
       "    </tr>\n",
       "    <tr>\n",
       "      <th>4</th>\n",
       "      <td>Coffe Day</td>\n",
       "      <td>4.1</td>\n",
       "      <td>956</td>\n",
       "      <td>Cosy, Casual, Groups</td>\n",
       "      <td>Dammam Branch Road Al Yarmuk Riyadh 13243 8015</td>\n",
       "      <td>['This coffee shop is a two story shop with a ...</td>\n",
       "    </tr>\n",
       "  </tbody>\n",
       "</table>\n",
       "</div>"
      ],
      "text/plain": [
       "             shop_name  rating  numbers_of_rating  \\\n",
       "0  Elixir Bunn Coffee      4.3                218   \n",
       "1        Chamonix Cafe     4.0                563   \n",
       "2       dr.CAFE COFFEE     4.1               1571   \n",
       "3            The Shaky     3.9                 52   \n",
       "4            Coffe Day     4.1                956   \n",
       "\n",
       "                                     key_words  \\\n",
       "0                                         none   \n",
       "1  Late-night food, Breakfast, Outdoor seating   \n",
       "2             Cosy, Casual, Vegetarian options   \n",
       "3                         Cosy, Casual, Groups   \n",
       "4                         Cosy, Casual, Groups   \n",
       "\n",
       "                                             address  \\\n",
       "0                      King Abdullah Rd,Riyadh 13215   \n",
       "1           9259 Wadi Al Awsat, Al nbsp;2430, Riyadh   \n",
       "2  As Sulimaniyah, Khurais Road Abi Al Arab Stree...   \n",
       "3  Localizer Mall gate ,Prince MUhammad Ibn Abdul...   \n",
       "4     Dammam Branch Road Al Yarmuk Riyadh 13243 8015   \n",
       "\n",
       "                                             reviews  \n",
       "0  ['Amazing new branch for my favorite coffee ho...  \n",
       "1  ['Its really romantic and lovely place with go...  \n",
       "2  [\"Sandwich wasn't tasty and it was expensive. ...  \n",
       "3  ['Nice place', \"It's delicious you can build y...  \n",
       "4  ['This coffee shop is a two story shop with a ...  "
      ]
     },
     "execution_count": 61,
     "metadata": {},
     "output_type": "execute_result"
    }
   ],
   "source": [
    "df.head()"
   ]
  },
  {
   "cell_type": "code",
   "execution_count": 62,
   "id": "a8018f8e",
   "metadata": {},
   "outputs": [
    {
     "data": {
      "text/plain": [
       "3.996923076923077"
      ]
     },
     "execution_count": 62,
     "metadata": {},
     "output_type": "execute_result"
    }
   ],
   "source": [
    "df['rating'].mean()"
   ]
  },
  {
   "cell_type": "code",
   "execution_count": 63,
   "id": "9e43907b",
   "metadata": {},
   "outputs": [
    {
     "name": "stderr",
     "output_type": "stream",
     "text": [
      "All model checkpoint layers were used when initializing TFRobertaForSequenceClassification.\n",
      "\n",
      "All the layers of TFRobertaForSequenceClassification were initialized from the model checkpoint at siebert/sentiment-roberta-large-english.\n",
      "If your task is similar to the task the model of the checkpoint was trained on, you can already use TFRobertaForSequenceClassification for predictions without further training.\n"
     ]
    },
    {
     "name": "stdout",
     "output_type": "stream",
     "text": [
      "[{'label': 'POSITIVE', 'score': 0.9988308548927307}]\n"
     ]
    }
   ],
   "source": [
    "from transformers import pipeline\n",
    "sentiment_analysis = pipeline(\"sentiment-analysis\",model=\"siebert/sentiment-roberta-large-english\")\n",
    "print(sentiment_analysis(\"I like your application alot!\"))"
   ]
  },
  {
   "cell_type": "code",
   "execution_count": 64,
   "id": "01e36aa4",
   "metadata": {},
   "outputs": [
    {
     "data": {
      "text/plain": [
       "shop_name             object\n",
       "rating               float64\n",
       "numbers_of_rating      int64\n",
       "key_words             object\n",
       "address               object\n",
       "reviews               object\n",
       "dtype: object"
      ]
     },
     "execution_count": 64,
     "metadata": {},
     "output_type": "execute_result"
    }
   ],
   "source": [
    "df.dtypes"
   ]
  },
  {
   "cell_type": "code",
   "execution_count": 65,
   "id": "d5e99283",
   "metadata": {},
   "outputs": [
    {
     "data": {
      "text/plain": [
       "Index(['shop_name', 'rating', 'numbers_of_rating', 'key_words', 'address',\n",
       "       'reviews'],\n",
       "      dtype='object')"
      ]
     },
     "execution_count": 65,
     "metadata": {},
     "output_type": "execute_result"
    }
   ],
   "source": [
    "df.columns"
   ]
  },
  {
   "cell_type": "code",
   "execution_count": 66,
   "id": "6146c52b",
   "metadata": {},
   "outputs": [
    {
     "name": "stdout",
     "output_type": "stream",
     "text": [
      "                                             reviews sentiment\n",
      "0  ['Amazing new branch for my favorite coffee ho...  Positive\n",
      "1  ['Its really romantic and lovely place with go...  Positive\n",
      "2  [\"Sandwich wasn't tasty and it was expensive. ...  Positive\n",
      "3  ['Nice place', \"It's delicious you can build y...  Positive\n",
      "4  ['This coffee shop is a two story shop with a ...  Positive\n",
      "5  ['Best Arabic coffee ð', 'Very delicious  a...  Negative\n",
      "6  ['Such a beautiful place to have a cup of coff...  Positive\n",
      "7  ['Iâve been in many coffee shops in Riyadh, ...  Positive\n",
      "8  [\"It's permanently closed now since June 19\", ...  Positive\n",
      "9  ['This was our first visit to colony coffee. B...  Positive\n"
     ]
    }
   ],
   "source": [
    "from nltk.sentiment import SentimentIntensityAnalyzer\n",
    "\n",
    "# Create a sentiment analyzer\n",
    "sia = SentimentIntensityAnalyzer()\n",
    "\n",
    "# Function to get sentiment score\n",
    "def get_sentiment_score(text):\n",
    "    # Get the compound sentiment score\n",
    "    sentiment_score = sia.polarity_scores(text)['compound']\n",
    "\n",
    "    # Classify sentiment based on the compound score\n",
    "    if sentiment_score >= 0.05:\n",
    "        return 'Positive'\n",
    "    elif sentiment_score <= -0.05:\n",
    "        return 'Negative'\n",
    "    else:\n",
    "        return 'Neutral'\n",
    "\n",
    "# Apply the sentiment analysis function to the \"preprocessed_review\" column\n",
    "df['sentiment'] = df['reviews'].apply(get_sentiment_score)\n",
    "\n",
    "# Display the updated DataFrame with the sentiment\n",
    "print(df[['reviews', 'sentiment']].head(10))\n"
   ]
  },
  {
   "cell_type": "code",
   "execution_count": 67,
   "id": "73c3d131",
   "metadata": {},
   "outputs": [],
   "source": [
    "df['reviews']=df['reviews'].astype('str')"
   ]
  },
  {
   "cell_type": "code",
   "execution_count": 68,
   "id": "89e6c51e",
   "metadata": {},
   "outputs": [],
   "source": [
    "df['rating']=df['key_words'].apply(lambda x:sentiment_analysis(x))"
   ]
  },
  {
   "cell_type": "code",
   "execution_count": 69,
   "id": "a52dfd96",
   "metadata": {},
   "outputs": [
    {
     "data": {
      "text/html": [
       "<div>\n",
       "<style scoped>\n",
       "    .dataframe tbody tr th:only-of-type {\n",
       "        vertical-align: middle;\n",
       "    }\n",
       "\n",
       "    .dataframe tbody tr th {\n",
       "        vertical-align: top;\n",
       "    }\n",
       "\n",
       "    .dataframe thead th {\n",
       "        text-align: right;\n",
       "    }\n",
       "</style>\n",
       "<table border=\"1\" class=\"dataframe\">\n",
       "  <thead>\n",
       "    <tr style=\"text-align: right;\">\n",
       "      <th></th>\n",
       "      <th>shop_name</th>\n",
       "      <th>rating</th>\n",
       "      <th>numbers_of_rating</th>\n",
       "      <th>key_words</th>\n",
       "      <th>address</th>\n",
       "      <th>reviews</th>\n",
       "      <th>sentiment</th>\n",
       "    </tr>\n",
       "  </thead>\n",
       "  <tbody>\n",
       "    <tr>\n",
       "      <th>0</th>\n",
       "      <td>Elixir Bunn Coffee</td>\n",
       "      <td>[{'label': 'NEGATIVE', 'score': 0.997580885887...</td>\n",
       "      <td>218</td>\n",
       "      <td>none</td>\n",
       "      <td>King Abdullah Rd,Riyadh 13215</td>\n",
       "      <td>['Amazing new branch for my favorite coffee ho...</td>\n",
       "      <td>Positive</td>\n",
       "    </tr>\n",
       "    <tr>\n",
       "      <th>1</th>\n",
       "      <td>Chamonix Cafe</td>\n",
       "      <td>[{'label': 'POSITIVE', 'score': 0.998819172382...</td>\n",
       "      <td>563</td>\n",
       "      <td>Late-night food, Breakfast, Outdoor seating</td>\n",
       "      <td>9259 Wadi Al Awsat, Al nbsp;2430, Riyadh</td>\n",
       "      <td>['Its really romantic and lovely place with go...</td>\n",
       "      <td>Positive</td>\n",
       "    </tr>\n",
       "    <tr>\n",
       "      <th>2</th>\n",
       "      <td>dr.CAFE COFFEE</td>\n",
       "      <td>[{'label': 'POSITIVE', 'score': 0.998833477497...</td>\n",
       "      <td>1571</td>\n",
       "      <td>Cosy, Casual, Vegetarian options</td>\n",
       "      <td>As Sulimaniyah, Khurais Road Abi Al Arab Stree...</td>\n",
       "      <td>[\"Sandwich wasn't tasty and it was expensive. ...</td>\n",
       "      <td>Positive</td>\n",
       "    </tr>\n",
       "    <tr>\n",
       "      <th>3</th>\n",
       "      <td>The Shaky</td>\n",
       "      <td>[{'label': 'POSITIVE', 'score': 0.998864293098...</td>\n",
       "      <td>52</td>\n",
       "      <td>Cosy, Casual, Groups</td>\n",
       "      <td>Localizer Mall gate ,Prince MUhammad Ibn Abdul...</td>\n",
       "      <td>['Nice place', \"It's delicious you can build y...</td>\n",
       "      <td>Positive</td>\n",
       "    </tr>\n",
       "    <tr>\n",
       "      <th>4</th>\n",
       "      <td>Coffe Day</td>\n",
       "      <td>[{'label': 'POSITIVE', 'score': 0.998864293098...</td>\n",
       "      <td>956</td>\n",
       "      <td>Cosy, Casual, Groups</td>\n",
       "      <td>Dammam Branch Road Al Yarmuk Riyadh 13243 8015</td>\n",
       "      <td>['This coffee shop is a two story shop with a ...</td>\n",
       "      <td>Positive</td>\n",
       "    </tr>\n",
       "    <tr>\n",
       "      <th>5</th>\n",
       "      <td>Onza Cafee</td>\n",
       "      <td>[{'label': 'NEGATIVE', 'score': 0.997580885887...</td>\n",
       "      <td>179</td>\n",
       "      <td>none</td>\n",
       "      <td>King Abdullah Branch Rd, King Fahd, Riyadh nea...</td>\n",
       "      <td>['Best Arabic coffee ð', 'Very delicious  a...</td>\n",
       "      <td>Negative</td>\n",
       "    </tr>\n",
       "    <tr>\n",
       "      <th>6</th>\n",
       "      <td>Brew Crew</td>\n",
       "      <td>[{'label': 'POSITIVE', 'score': 0.998864293098...</td>\n",
       "      <td>1186</td>\n",
       "      <td>Cosy, Casual, Groups</td>\n",
       "      <td>Nahr An Nil, Riyadh 12483</td>\n",
       "      <td>['Such a beautiful place to have a cup of coff...</td>\n",
       "      <td>Positive</td>\n",
       "    </tr>\n",
       "    <tr>\n",
       "      <th>7</th>\n",
       "      <td>Elixir Bunn Coffee Roasters</td>\n",
       "      <td>[{'label': 'POSITIVE', 'score': 0.998854994773...</td>\n",
       "      <td>2462</td>\n",
       "      <td>Breakfast, Cosy, Casual</td>\n",
       "      <td>Salim Ibn Maqil,  Riyadh</td>\n",
       "      <td>['Iâve been in many coffee shops in Riyadh, ...</td>\n",
       "      <td>Positive</td>\n",
       "    </tr>\n",
       "    <tr>\n",
       "      <th>8</th>\n",
       "      <td>Coffe Day</td>\n",
       "      <td>[{'label': 'POSITIVE', 'score': 0.998864293098...</td>\n",
       "      <td>130</td>\n",
       "      <td>Cosy, Casual, Groups</td>\n",
       "      <td>3314 No. 38 Rizwak Lane , Riyadh 12212Â 7390</td>\n",
       "      <td>[\"It's permanently closed now since June 19\", ...</td>\n",
       "      <td>Positive</td>\n",
       "    </tr>\n",
       "    <tr>\n",
       "      <th>9</th>\n",
       "      <td>Colony Coffee</td>\n",
       "      <td>[{'label': 'POSITIVE', 'score': 0.998864293098...</td>\n",
       "      <td>229</td>\n",
       "      <td>Cosy, Casual, Groups</td>\n",
       "      <td>Prince Sultan Bin Salman Bin Abdulaziz St, Riy...</td>\n",
       "      <td>['This was our first visit to colony coffee. B...</td>\n",
       "      <td>Positive</td>\n",
       "    </tr>\n",
       "  </tbody>\n",
       "</table>\n",
       "</div>"
      ],
      "text/plain": [
       "                     shop_name  \\\n",
       "0          Elixir Bunn Coffee    \n",
       "1                Chamonix Cafe   \n",
       "2               dr.CAFE COFFEE   \n",
       "3                    The Shaky   \n",
       "4                    Coffe Day   \n",
       "5                   Onza Cafee   \n",
       "6                    Brew Crew   \n",
       "7  Elixir Bunn Coffee Roasters   \n",
       "8                    Coffe Day   \n",
       "9                Colony Coffee   \n",
       "\n",
       "                                              rating  numbers_of_rating  \\\n",
       "0  [{'label': 'NEGATIVE', 'score': 0.997580885887...                218   \n",
       "1  [{'label': 'POSITIVE', 'score': 0.998819172382...                563   \n",
       "2  [{'label': 'POSITIVE', 'score': 0.998833477497...               1571   \n",
       "3  [{'label': 'POSITIVE', 'score': 0.998864293098...                 52   \n",
       "4  [{'label': 'POSITIVE', 'score': 0.998864293098...                956   \n",
       "5  [{'label': 'NEGATIVE', 'score': 0.997580885887...                179   \n",
       "6  [{'label': 'POSITIVE', 'score': 0.998864293098...               1186   \n",
       "7  [{'label': 'POSITIVE', 'score': 0.998854994773...               2462   \n",
       "8  [{'label': 'POSITIVE', 'score': 0.998864293098...                130   \n",
       "9  [{'label': 'POSITIVE', 'score': 0.998864293098...                229   \n",
       "\n",
       "                                     key_words  \\\n",
       "0                                         none   \n",
       "1  Late-night food, Breakfast, Outdoor seating   \n",
       "2             Cosy, Casual, Vegetarian options   \n",
       "3                         Cosy, Casual, Groups   \n",
       "4                         Cosy, Casual, Groups   \n",
       "5                                         none   \n",
       "6                         Cosy, Casual, Groups   \n",
       "7                      Breakfast, Cosy, Casual   \n",
       "8                         Cosy, Casual, Groups   \n",
       "9                         Cosy, Casual, Groups   \n",
       "\n",
       "                                             address  \\\n",
       "0                      King Abdullah Rd,Riyadh 13215   \n",
       "1           9259 Wadi Al Awsat, Al nbsp;2430, Riyadh   \n",
       "2  As Sulimaniyah, Khurais Road Abi Al Arab Stree...   \n",
       "3  Localizer Mall gate ,Prince MUhammad Ibn Abdul...   \n",
       "4     Dammam Branch Road Al Yarmuk Riyadh 13243 8015   \n",
       "5  King Abdullah Branch Rd, King Fahd, Riyadh nea...   \n",
       "6                          Nahr An Nil, Riyadh 12483   \n",
       "7                           Salim Ibn Maqil,  Riyadh   \n",
       "8       3314 No. 38 Rizwak Lane , Riyadh 12212Â 7390   \n",
       "9  Prince Sultan Bin Salman Bin Abdulaziz St, Riy...   \n",
       "\n",
       "                                             reviews sentiment  \n",
       "0  ['Amazing new branch for my favorite coffee ho...  Positive  \n",
       "1  ['Its really romantic and lovely place with go...  Positive  \n",
       "2  [\"Sandwich wasn't tasty and it was expensive. ...  Positive  \n",
       "3  ['Nice place', \"It's delicious you can build y...  Positive  \n",
       "4  ['This coffee shop is a two story shop with a ...  Positive  \n",
       "5  ['Best Arabic coffee ð', 'Very delicious  a...  Negative  \n",
       "6  ['Such a beautiful place to have a cup of coff...  Positive  \n",
       "7  ['Iâve been in many coffee shops in Riyadh, ...  Positive  \n",
       "8  [\"It's permanently closed now since June 19\", ...  Positive  \n",
       "9  ['This was our first visit to colony coffee. B...  Positive  "
      ]
     },
     "execution_count": 69,
     "metadata": {},
     "output_type": "execute_result"
    }
   ],
   "source": [
    "df.head(10)"
   ]
  },
  {
   "cell_type": "code",
   "execution_count": 70,
   "id": "452e400b",
   "metadata": {},
   "outputs": [
    {
     "data": {
      "text/plain": [
       "Positive    0.833333\n",
       "Negative    0.085859\n",
       "Neutral     0.080808\n",
       "Name: sentiment, dtype: float64"
      ]
     },
     "execution_count": 70,
     "metadata": {},
     "output_type": "execute_result"
    }
   ],
   "source": [
    "df['sentiment'].value_counts(normalize=True)"
   ]
  },
  {
   "cell_type": "code",
   "execution_count": 71,
   "id": "9a8ca973",
   "metadata": {},
   "outputs": [
    {
     "name": "stdout",
     "output_type": "stream",
     "text": [
      "Epoch 1/10\n",
      "4/4 [==============================] - 7s 452ms/step - loss: 0.6636 - accuracy: 0.1032 - val_loss: 0.5948 - val_accuracy: 0.1250\n",
      "Epoch 2/10\n",
      "4/4 [==============================] - 0s 67ms/step - loss: 0.5218 - accuracy: 0.0794 - val_loss: 0.3907 - val_accuracy: 0.1250\n",
      "Epoch 3/10\n",
      "4/4 [==============================] - 0s 71ms/step - loss: 0.1526 - accuracy: 0.0794 - val_loss: -0.3516 - val_accuracy: 0.1250\n",
      "Epoch 4/10\n",
      "4/4 [==============================] - 0s 68ms/step - loss: -1.1793 - accuracy: 0.0794 - val_loss: -2.1817 - val_accuracy: 0.1250\n",
      "Epoch 5/10\n",
      "4/4 [==============================] - 0s 69ms/step - loss: -2.6284 - accuracy: 0.0794 - val_loss: -3.3024 - val_accuracy: 0.1250\n",
      "Epoch 6/10\n",
      "4/4 [==============================] - 0s 68ms/step - loss: -3.4969 - accuracy: 0.0794 - val_loss: -4.0235 - val_accuracy: 0.1250\n",
      "Epoch 7/10\n",
      "4/4 [==============================] - 0s 67ms/step - loss: -4.1635 - accuracy: 0.0794 - val_loss: -4.6067 - val_accuracy: 0.1250\n",
      "Epoch 8/10\n",
      "4/4 [==============================] - 0s 73ms/step - loss: -4.7024 - accuracy: 0.0794 - val_loss: -5.1767 - val_accuracy: 0.1250\n",
      "Epoch 9/10\n",
      "4/4 [==============================] - 0s 68ms/step - loss: -5.2782 - accuracy: 0.0794 - val_loss: -5.7212 - val_accuracy: 0.1250\n",
      "Epoch 10/10\n",
      "4/4 [==============================] - 0s 72ms/step - loss: -5.8143 - accuracy: 0.0794 - val_loss: -6.2243 - val_accuracy: 0.1250\n",
      "2/2 [==============================] - 1s 23ms/step - loss: -6.6514 - accuracy: 0.0500\n",
      "Test loss: -6.651422023773193, Test accuracy: 0.05000000074505806\n",
      "2/2 [==============================] - 1s 15ms/step\n"
     ]
    }
   ],
   "source": [
    "import pandas as pd\n",
    "from sklearn.model_selection import train_test_split\n",
    "from sklearn.preprocessing import LabelEncoder\n",
    "from tensorflow.keras.preprocessing.text import Tokenizer\n",
    "from tensorflow.keras.preprocessing.sequence import pad_sequences\n",
    "from tensorflow.keras.models import Sequential\n",
    "from tensorflow.keras.layers import Embedding, LSTM, Dense\n",
    "\n",
    "X = df['reviews']\n",
    "y = df['sentiment']\n",
    "\n",
    "label_encoder = LabelEncoder()\n",
    "y = label_encoder.fit_transform(y)\n",
    "\n",
    "max_words = 10000  \n",
    "tokenizer = Tokenizer(num_words=max_words)\n",
    "tokenizer.fit_on_texts(X)\n",
    "X_sequences = tokenizer.texts_to_sequences(X)\n",
    "\n",
    "max_len = 100  # Adjust as needed\n",
    "X_padded = pad_sequences(X_sequences, maxlen=max_len)\n",
    "\n",
    "X_train, X_test, y_train, y_test = train_test_split(X_padded, y, test_size=0.2, random_state=42)\n",
    "\n",
    "model = Sequential()\n",
    "model.add(Embedding(input_dim=max_words, output_dim=128, input_length=max_len))\n",
    "model.add(LSTM(64))\n",
    "model.add(Dense(1, activation='sigmoid'))\n",
    "\n",
    "model.compile(optimizer='adam', loss='binary_crossentropy', metrics=['accuracy'])\n",
    "\n",
    "model.fit(X_train, y_train, epochs=10, batch_size=32, validation_split=0.2)\n",
    "\n",
    "loss, accuracy = model.evaluate(X_test, y_test)\n",
    "print(f'Test loss: {loss}, Test accuracy: {accuracy}')\n",
    "\n",
    "predictions = model.predict(X_test)\n",
    "\n",
    "predicted_labels = (predictions > 0.5).astype(int)\n",
    "predicted_labels = label_encoder.inverse_transform(predicted_labels.flatten())"
   ]
  },
  {
   "cell_type": "code",
   "execution_count": 73,
   "id": "08509dad",
   "metadata": {},
   "outputs": [
    {
     "name": "stdout",
     "output_type": "stream",
     "text": [
      "1/1 [==============================] - 0s 38ms/step\n",
      "Test Comment: The food was good\n",
      "Predicted Sentiment: POSITIVE\n"
     ]
    }
   ],
   "source": [
    "test_comment = \"The food was good\"\n",
    "\n",
    "test_sequence = tokenizer.texts_to_sequences([test_comment])\n",
    "test_padded = pad_sequences(test_sequence, maxlen=max_len)\n",
    "\n",
    "predicted_prob = model.predict(test_padded)\n",
    "\n",
    "predicted_sentiment = \"POSITIVE\" if predicted_prob > 0.5 else \"NEGATIVE\"\n",
    "print(f\"Test Comment: {test_comment}\")\n",
    "print(f\"Predicted Sentiment: {predicted_sentiment}\")"
   ]
  },
  {
   "cell_type": "code",
   "execution_count": null,
   "id": "bfab8b8e",
   "metadata": {},
   "outputs": [],
   "source": []
  }
 ],
 "metadata": {
  "kernelspec": {
   "display_name": "Python 3 (ipykernel)",
   "language": "python",
   "name": "python3"
  },
  "language_info": {
   "codemirror_mode": {
    "name": "ipython",
    "version": 3
   },
   "file_extension": ".py",
   "mimetype": "text/x-python",
   "name": "python",
   "nbconvert_exporter": "python",
   "pygments_lexer": "ipython3",
   "version": "3.10.0"
  }
 },
 "nbformat": 4,
 "nbformat_minor": 5
}
